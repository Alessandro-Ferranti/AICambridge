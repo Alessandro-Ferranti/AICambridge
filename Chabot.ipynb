{
  "nbformat": 4,
  "nbformat_minor": 0,
  "metadata": {
    "colab": {
      "provenance": [],
      "include_colab_link": true
    },
    "kernelspec": {
      "name": "python3",
      "display_name": "Python 3"
    },
    "language_info": {
      "name": "python"
    }
  },
  "cells": [
    {
      "cell_type": "markdown",
      "metadata": {
        "id": "view-in-github",
        "colab_type": "text"
      },
      "source": [
        "<a href=\"https://colab.research.google.com/github/Alessandro-Ferranti/AICambridge/blob/main/Chabot.ipynb\" target=\"_parent\"><img src=\"https://colab.research.google.com/assets/colab-badge.svg\" alt=\"Open In Colab\"/></a>"
      ]
    },
    {
      "cell_type": "markdown",
      "source": [
        "# Import Packages"
      ],
      "metadata": {
        "id": "QHgPlCAAL3en"
      }
    },
    {
      "cell_type": "code",
      "source": [
        "import tensorflow as tf\n",
        "import numpy as np\n",
        "import pandas as pd\n",
        "import json\n",
        "import nltk\n",
        "from tensorflow.keras.preprocessing.text import Tokenizer\n",
        "from tensorflow.keras.layers import Input, Embedding, LSTM, Dense, GlobalMaxPooling1D, Flatten\n",
        "from tensorflow.keras.models import Model\n",
        "import matplotlib.pyplot as plt"
      ],
      "metadata": {
        "id": "89rzWk6KM8j_"
      },
      "execution_count": 13,
      "outputs": []
    },
    {
      "cell_type": "markdown",
      "source": [
        "# Data Import and Processing\n",
        "\n",
        "\n",
        "\n",
        "\n",
        "\n"
      ],
      "metadata": {
        "id": "zMP-0BRtPooP"
      }
    },
    {
      "cell_type": "markdown",
      "source": [
        "## Import the Dataset"
      ],
      "metadata": {
        "id": "mqvl9kixNGse"
      }
    },
    {
      "cell_type": "code",
      "source": [
        "with open('/content/drive/MyDrive/Colab Notebooks/Bootcamp/content.json') as content:\n",
        "  data1 = json.load(content)"
      ],
      "metadata": {
        "id": "ZWDsAnItNJ6W"
      },
      "execution_count": 17,
      "outputs": []
    },
    {
      "cell_type": "code",
      "source": [
        "from google.colab import drive\n",
        "drive.mount('/content/drive')"
      ],
      "metadata": {
        "colab": {
          "base_uri": "https://localhost:8080/"
        },
        "id": "dFMIa-Esmauu",
        "outputId": "c1371410-83d9-438c-e016-69013bfc1ff6"
      },
      "execution_count": 16,
      "outputs": [
        {
          "output_type": "stream",
          "name": "stdout",
          "text": [
            "Drive already mounted at /content/drive; to attempt to forcibly remount, call drive.mount(\"/content/drive\", force_remount=True).\n"
          ]
        }
      ]
    },
    {
      "cell_type": "code",
      "source": [
        "print(data1)"
      ],
      "metadata": {
        "id": "cZdcGmcVNn0i",
        "colab": {
          "base_uri": "https://localhost:8080/"
        },
        "outputId": "0af06bfb-9db7-470c-fa3c-3f857322afa8"
      },
      "execution_count": 18,
      "outputs": [
        {
          "output_type": "stream",
          "name": "stdout",
          "text": [
            "{'intents': [{'tag': 'greeting', 'input': ['hello', 'hi there', 'nice to meet you', \"hi, is this is the pirate's organization\", 'any pirates here ?', 'hi', 'hey there', 'hey', 'hi there', 'hi, nice to meet you', 'hello there', 'anyone there ?', 'hello pirates', 'knock knock'], 'responses': [\"Hi. Welcome to the world's largest pirate organization - The Strawhats\", 'Hey yo, do you need help ?', 'welcome aboard, how may I help you ?', 'ahoy!!', \"Hi random person, what do'ya want ?\", 'Hello my friend, How can I help you ?', 'Ha , Glad you showed up. How are you ?']}, {'tag': 'goodbye', 'input': ['Thank you', 'Thanks', 'Thanks for the info', 'bye', 'byr bro', 'adios', 'okay bye', 'goodbye', 'see you later', 'i will catch you later', 'i will catch up later', 'okay i will see you later', 'I will talk to you later', 'will text you later', \"bye bro, I'll talk to you later\", 'Bye brother'], 'responses': ['Okay, Bye', 'Have a nice day', 'Adios', 'Goodbye', 'see you later', 'nice conversation. bye', 'okay. Have a nice day', 'Take care', \"we'll meet soon\", 'Yeah Sure, Will talk to you later', 'Okay , Take care']}, {'tag': 'howami', 'input': ['how are you ?', 'I am fine , how are you ?', 'are you fine ?', 'how are things going on ?', 'everything going on okay ?', \"how's everything there ?\", \"how's everything going on ?\", 'is everything okay ?'], 'responses': ['Yeah , am fine', \"Everything's going on well\", 'Doing good.Thanks you are my best friend', 'Things are Great', 'Yeah Fine, nothing much going on in my life', \"I am Great , wanna join the pirate's organization ?\", \"Everything's great.\", 'I am doing good. Life is boring. need to go on an adventure']}, {'tag': 'whoareyou', 'input': ['who are you ?', 'what are you ?', 'what is your name ?', 'are you a chatbot ?', 'what can I call you ?', 'your name ?', 'are you a bot ?', 'how do I address you ?', 'How do I call you'], 'responses': ['I am a The Great Pirate Bot , you can call me Going Merry', 'I am Going Merry and you could ask me questions about our organization', 'Going Merry at your service', 'My name is Going Merry and yes, I am the G.O.A.T', 'You can call me TechBot and I am here to Help you', 'My name is Going Merry and I am here to answer your questions regarding our organization. go ahead and shoot']}, {'tag': 'whereareyou', 'input': ['where are you from ?', 'which country are you from ?', 'where do you live ?', 'where are you ?', 'where do you live in ?', 'which place do you live in ?', 'where are you currently at', 'where do you live currently ?', 'you are from where', 'you are from ?'], 'responses': ['I Live in the East Blue', 'I am setting sail to the grand line', \"I live in East Blue. Pretty sure you wouldn't have heard about that\", \"East Blue. That's where I live\"]}, {'tag': 'join', 'input': ['how to get recruited ?', 'how to join ?', 'how do i get recruited ?', 'How to join the strawhats ?', 'how do I join the straw hats ?', 'how to join the straw hat pirates ?', 'how to enroll', 'how to join the organization', 'steps to join the organization', 'steps to join the pirates'], 'responses': ['you need to contact the nearest straw hats center once you have completed the pre-requisites', 'contact the closest straw hat center from your location', 'well. there are some pre-requisite and after you complete them, find the straw hat centers']}, {'tag': 'whereisthecenter', 'input': ['where is the straw hat center located ?', 'location of the straw hat center ?', \"strawhat center's location ?\", 'where can I find the strawhat center ?', 'where can I find the strawhat center ?'], 'responses': [\"That's up to you. use your skills\", \"They are present all over the city you live in. Find them on your own. I can't give any more information\", 'there are a lot of straw hat centers in the city you are in. find them.']}, {'tag': 'prerequisites', 'input': ['what are the job requirements ?', 'what are the pre requisites ?', 'what are the pre-requisites ?', 'tell me about the pre-requisites', 'tell me more about the pre requisites', 'give more details about the pre-requisites', 'What are the requirements', \" what's the basic requirements\", 'what are the basic skills to get recruited ?'], 'responses': ['you gotta master the art of swordfight or master Cooking and become a furious cook or you have to be the best navigator in the entire world or you need to be as strong and intelligent as god usop', 'swordsman, a medical reindeer, taekwando Cook, master navigator, simple minded monkey, highly intelligent strategist, god usop. you gotta be one of these things to pass the requirement and join the pirates']}]}\n"
          ]
        }
      ]
    },
    {
      "cell_type": "markdown",
      "source": [
        "### Getting all data to lists"
      ],
      "metadata": {
        "id": "SYEDE-HiPcw9"
      }
    },
    {
      "cell_type": "code",
      "source": [
        "tags = []\n",
        "inputs = []\n",
        "responses={}\n",
        "for intent in data1['intents']:\n",
        "  responses[intent['tag']]=intent['responses']\n",
        "  for lines in intent['input']:\n",
        "    inputs.append(lines)\n",
        "    tags.append(intent['tag'])"
      ],
      "metadata": {
        "id": "AyeUev3bPiXV"
      },
      "execution_count": 19,
      "outputs": []
    },
    {
      "cell_type": "markdown",
      "source": [
        "### Converting to dataframe"
      ],
      "metadata": {
        "id": "nm27Rtm5P8vM"
      }
    },
    {
      "cell_type": "code",
      "source": [
        "data = pd.DataFrame({\"inputs\":inputs,\n",
        "                     \"tags\":tags})\n",
        "\n",
        "data = data.sample(frac=1)\n",
        "print(data)"
      ],
      "metadata": {
        "id": "SZBe39ceP_am",
        "colab": {
          "base_uri": "https://localhost:8080/"
        },
        "outputId": "78db32ed-f235-4f66-ed68-1e622cc1780b"
      },
      "execution_count": 20,
      "outputs": [
        {
          "output_type": "stream",
          "name": "stdout",
          "text": [
            "                                inputs              tags\n",
            "59            how do i get recruited ?              join\n",
            "13                         knock knock          greeting\n",
            "33           how are things going on ?            howami\n",
            "68  location of the straw hat center ?  whereisthecenter\n",
            "45              how do I address you ?         whoareyou\n",
            "..                                 ...               ...\n",
            "24               i will catch up later           goodbye\n",
            "52        which place do you live in ?       whereareyou\n",
            "58                       how to join ?              join\n",
            "79       what's the basic requirements     prerequisites\n",
            "40                 what is your name ?         whoareyou\n",
            "\n",
            "[81 rows x 2 columns]\n"
          ]
        }
      ]
    },
    {
      "cell_type": "markdown",
      "source": [
        "### Removing punctuation"
      ],
      "metadata": {
        "id": "n3bowgP2Quuk"
      }
    },
    {
      "cell_type": "code",
      "source": [
        "import string\n",
        "data['inputs'] = data['inputs'].apply(lambda wrd:[ltrs.lower() for ltrs in wrd if ltrs not in string.punctuation])\n",
        "data['inputs'] = data['inputs'].apply(lambda wrd: ''.join(wrd))\n",
        "print(data)"
      ],
      "metadata": {
        "id": "IA-NScGBQyH-",
        "colab": {
          "base_uri": "https://localhost:8080/"
        },
        "outputId": "e775ef54-94bf-433b-abd2-35e64688db74"
      },
      "execution_count": 21,
      "outputs": [
        {
          "output_type": "stream",
          "name": "stdout",
          "text": [
            "                               inputs              tags\n",
            "59            how do i get recruited               join\n",
            "13                        knock knock          greeting\n",
            "33           how are things going on             howami\n",
            "68  location of the straw hat center   whereisthecenter\n",
            "45              how do i address you          whoareyou\n",
            "..                                ...               ...\n",
            "24              i will catch up later           goodbye\n",
            "52        which place do you live in        whereareyou\n",
            "58                       how to join               join\n",
            "79       whats the basic requirements     prerequisites\n",
            "40                 what is your name          whoareyou\n",
            "\n",
            "[81 rows x 2 columns]\n"
          ]
        }
      ]
    },
    {
      "cell_type": "markdown",
      "source": [
        "### Data tokenization"
      ],
      "metadata": {
        "id": "DqJTVbMIQ_Zm"
      }
    },
    {
      "cell_type": "code",
      "source": [
        "from tensorflow.keras.preprocessing.text import Tokenizer\n",
        "tokenizer = Tokenizer(num_words=2000)\n",
        "tokenizer.fit_on_texts(data['inputs'])\n",
        "train = tokenizer.texts_to_sequences(data['inputs'])\n",
        "print(train)"
      ],
      "metadata": {
        "id": "hql6LNc9REak",
        "colab": {
          "base_uri": "https://localhost:8080/"
        },
        "outputId": "a2d58734-3a89-476f-da71-0d1562b85662"
      },
      "execution_count": 22,
      "outputs": [
        {
          "output_type": "stream",
          "name": "stdout",
          "text": [
            "[[4, 8, 6, 24, 25], [36, 36], [4, 3, 63, 26, 27], [37, 64, 2, 17, 28, 18], [4, 8, 6, 65, 1], [13, 12], [9, 3, 2, 29], [13, 12], [38, 66, 3, 1, 19], [4, 5, 10, 2, 67], [30, 68, 37], [69, 12], [7, 31, 6, 39, 2, 30, 18], [20, 70], [4, 5, 10, 2, 32], [33, 12], [3, 1, 40, 71], [4, 3, 1], [9, 3, 2, 41, 72, 5, 24, 25], [21, 26, 27, 22], [4, 8, 6, 42, 1], [43], [4, 5, 10, 2, 17, 28, 14], [6, 73, 44, 4, 3, 1], [7, 8, 1, 23, 45], [9, 3, 2, 74, 29], [9, 3, 2, 34], [13, 46, 5, 47, 1], [1, 3, 19, 7], [75, 14, 76], [4, 5, 24, 25], [20, 48, 77, 49, 5, 1, 11], [6, 15, 49, 5, 1, 11], [50, 21, 26, 27], [51, 1, 11], [7, 31, 6, 39, 2, 30, 18], [22, 20], [16, 21, 22], [78, 48], [46, 5, 47, 1], [3, 1, 40, 79], [52, 53], [7, 8, 1, 23, 54], [7, 3, 1, 54, 80], [81, 3, 1], [3, 1, 44], [82], [6, 15, 55, 1, 11], [83, 56, 84, 35, 2, 34], [9, 3, 2, 57, 58], [4, 8, 6, 10, 2, 17, 85], [9, 3, 1], [9, 31, 6, 42, 1], [33], [50, 21, 12], [13], [22, 6, 15, 51, 1, 11], [59, 5, 10, 2, 32], [43, 12], [13, 16, 86, 16, 2, 14, 32], [4, 5, 87], [59, 5, 10, 2, 14], [7, 8, 1, 23], [7, 16, 2, 17, 28, 18, 88], [7, 3, 1, 19], [89], [33, 14], [60, 61, 35, 2, 34], [60, 61, 56, 35, 2, 57, 58], [62, 90, 2, 91], [1, 3, 19], [7, 3, 1], [15, 92, 1, 11], [62], [93, 1], [20], [6, 15, 55, 94, 11], [38, 95, 8, 1, 23, 45], [4, 5, 10], [96, 2, 41, 29], [9, 16, 52, 53]]\n"
          ]
        }
      ]
    },
    {
      "cell_type": "markdown",
      "source": [
        "### Apply  padding"
      ],
      "metadata": {
        "id": "u92FZW5XRnoP"
      }
    },
    {
      "cell_type": "code",
      "source": [
        "from tensorflow.keras.preprocessing.sequence import pad_sequences\n",
        "x_train = pad_sequences(train)\n",
        "print(x_train)\n",
        "input_shape = x_train.shape[1]\n",
        "print(input_shape)"
      ],
      "metadata": {
        "id": "LOXDTplXRq3-",
        "colab": {
          "base_uri": "https://localhost:8080/"
        },
        "outputId": "e9e57740-9987-4db2-d3b2-3c112ad86c33"
      },
      "execution_count": 23,
      "outputs": [
        {
          "output_type": "stream",
          "name": "stdout",
          "text": [
            "[[ 0  0  0  4  8  6 24 25]\n",
            " [ 0  0  0  0  0  0 36 36]\n",
            " [ 0  0  0  4  3 63 26 27]\n",
            " [ 0  0 37 64  2 17 28 18]\n",
            " [ 0  0  0  4  8  6 65  1]\n",
            " [ 0  0  0  0  0  0 13 12]\n",
            " [ 0  0  0  0  9  3  2 29]\n",
            " [ 0  0  0  0  0  0 13 12]\n",
            " [ 0  0  0 38 66  3  1 19]\n",
            " [ 0  0  0  4  5 10  2 67]\n",
            " [ 0  0  0  0  0 30 68 37]\n",
            " [ 0  0  0  0  0  0 69 12]\n",
            " [ 0  7 31  6 39  2 30 18]\n",
            " [ 0  0  0  0  0  0 20 70]\n",
            " [ 0  0  0  4  5 10  2 32]\n",
            " [ 0  0  0  0  0  0 33 12]\n",
            " [ 0  0  0  0  3  1 40 71]\n",
            " [ 0  0  0  0  0  4  3  1]\n",
            " [ 9  3  2 41 72  5 24 25]\n",
            " [ 0  0  0  0 21 26 27 22]\n",
            " [ 0  0  0  4  8  6 42  1]\n",
            " [ 0  0  0  0  0  0  0 43]\n",
            " [ 0  4  5 10  2 17 28 14]\n",
            " [ 0  0  6 73 44  4  3  1]\n",
            " [ 0  0  0  7  8  1 23 45]\n",
            " [ 0  0  0  9  3  2 74 29]\n",
            " [ 0  0  0  0  9  3  2 34]\n",
            " [ 0  0  0 13 46  5 47  1]\n",
            " [ 0  0  0  0  1  3 19  7]\n",
            " [ 0  0  0  0  0 75 14 76]\n",
            " [ 0  0  0  0  4  5 24 25]\n",
            " [ 0 20 48 77 49  5  1 11]\n",
            " [ 0  0  6 15 49  5  1 11]\n",
            " [ 0  0  0  0 50 21 26 27]\n",
            " [ 0  0  0  0  0 51  1 11]\n",
            " [ 0  7 31  6 39  2 30 18]\n",
            " [ 0  0  0  0  0  0 22 20]\n",
            " [ 0  0  0  0  0 16 21 22]\n",
            " [ 0  0  0  0  0  0 78 48]\n",
            " [ 0  0  0  0 46  5 47  1]\n",
            " [ 0  0  0  0  3  1 40 79]\n",
            " [ 0  0  0  0  0  0 52 53]\n",
            " [ 0  0  0  7  8  1 23 54]\n",
            " [ 0  0  0  7  3  1 54 80]\n",
            " [ 0  0  0  0  0 81  3  1]\n",
            " [ 0  0  0  0  0  3  1 44]\n",
            " [ 0  0  0  0  0  0  0 82]\n",
            " [ 0  0  0  6 15 55  1 11]\n",
            " [ 0  0 83 56 84 35  2 34]\n",
            " [ 0  0  0  9  3  2 57 58]\n",
            " [ 0  4  8  6 10  2 17 85]\n",
            " [ 0  0  0  0  0  9  3  1]\n",
            " [ 0  0  0  9 31  6 42  1]\n",
            " [ 0  0  0  0  0  0  0 33]\n",
            " [ 0  0  0  0  0 50 21 12]\n",
            " [ 0  0  0  0  0  0  0 13]\n",
            " [ 0  0 22  6 15 51  1 11]\n",
            " [ 0  0  0 59  5 10  2 32]\n",
            " [ 0  0  0  0  0  0 43 12]\n",
            " [ 0 13 16 86 16  2 14 32]\n",
            " [ 0  0  0  0  0  4  5 87]\n",
            " [ 0  0  0 59  5 10  2 14]\n",
            " [ 0  0  0  0  7  8  1 23]\n",
            " [ 0  7 16  2 17 28 18 88]\n",
            " [ 0  0  0  0  7  3  1 19]\n",
            " [ 0  0  0  0  0  0  0 89]\n",
            " [ 0  0  0  0  0  0 33 14]\n",
            " [ 0  0  0 60 61 35  2 34]\n",
            " [ 0 60 61 56 35  2 57 58]\n",
            " [ 0  0  0  0 62 90  2 91]\n",
            " [ 0  0  0  0  0  1  3 19]\n",
            " [ 0  0  0  0  0  7  3  1]\n",
            " [ 0  0  0  0 15 92  1 11]\n",
            " [ 0  0  0  0  0  0  0 62]\n",
            " [ 0  0  0  0  0  0 93  1]\n",
            " [ 0  0  0  0  0  0  0 20]\n",
            " [ 0  0  0  6 15 55 94 11]\n",
            " [ 0  0 38 95  8  1 23 45]\n",
            " [ 0  0  0  0  0  4  5 10]\n",
            " [ 0  0  0  0 96  2 41 29]\n",
            " [ 0  0  0  0  9 16 52 53]]\n",
            "8\n"
          ]
        }
      ]
    },
    {
      "cell_type": "markdown",
      "source": [
        "# Output Encoding"
      ],
      "metadata": {
        "id": "jdX-KwjKSlbh"
      }
    },
    {
      "cell_type": "code",
      "source": [
        "from sklearn.preprocessing import LabelEncoder\n",
        "le = LabelEncoder()\n",
        "y_train = le.fit_transform(data['tags'])\n"
      ],
      "metadata": {
        "id": "TsM3rey4Ssax"
      },
      "execution_count": 24,
      "outputs": []
    },
    {
      "cell_type": "markdown",
      "source": [
        "## Define Vocabulary"
      ],
      "metadata": {
        "id": "ZqqSv7O4TJA3"
      }
    },
    {
      "cell_type": "code",
      "source": [
        "vocabulary = len(tokenizer.word_index)\n",
        "print(\"number of unique words : \",vocabulary)\n",
        "output_length = le.classes_.shape[0]\n",
        "print(\"output length: \",output_length)"
      ],
      "metadata": {
        "colab": {
          "base_uri": "https://localhost:8080/"
        },
        "id": "AAWRn_GJTM46",
        "outputId": "96024e16-da8f-462a-c9cf-761afabc70d7"
      },
      "execution_count": 25,
      "outputs": [
        {
          "output_type": "stream",
          "name": "stdout",
          "text": [
            "number of unique words :  96\n",
            "output length:  8\n"
          ]
        }
      ]
    },
    {
      "cell_type": "markdown",
      "source": [
        "# Chatbot Model"
      ],
      "metadata": {
        "id": "AYboCoSQTPy5"
      }
    },
    {
      "cell_type": "markdown",
      "source": [
        "###  Create Model"
      ],
      "metadata": {
        "id": "8UqTC5jOTX5C"
      }
    },
    {
      "cell_type": "code",
      "source": [
        "i = Input(shape=(input_shape,))\n",
        "x = Embedding(vocabulary+1,10)(i)\n",
        "x = LSTM(10,return_sequences=True)(x)\n",
        "x = Flatten()(x)\n",
        "x = Dense(output_length,activation=\"softmax\")(x)\n",
        "model  = Model(i,x)"
      ],
      "metadata": {
        "id": "DICHERraTSXm"
      },
      "execution_count": 26,
      "outputs": []
    },
    {
      "cell_type": "markdown",
      "source": [
        "### Compile Model"
      ],
      "metadata": {
        "id": "MYNhSS_tTcvU"
      }
    },
    {
      "cell_type": "code",
      "source": [
        "model.compile(loss=\"sparse_categorical_crossentropy\",optimizer='adam',metrics=['accuracy'])\n"
      ],
      "metadata": {
        "id": "_tYa5xeZTfex"
      },
      "execution_count": 27,
      "outputs": []
    },
    {
      "cell_type": "markdown",
      "source": [
        "### Training Model"
      ],
      "metadata": {
        "id": "2sEBekrwTlZg"
      }
    },
    {
      "cell_type": "code",
      "source": [
        "train = model.fit(x_train,y_train,epochs=200)\n"
      ],
      "metadata": {
        "colab": {
          "base_uri": "https://localhost:8080/"
        },
        "id": "asiBN4DGTozz",
        "outputId": "a1d2c4de-a440-4640-a934-95c54b530dcb"
      },
      "execution_count": 28,
      "outputs": [
        {
          "output_type": "stream",
          "name": "stdout",
          "text": [
            "Epoch 1/200\n",
            "3/3 [==============================] - 2s 10ms/step - loss: 2.0794 - accuracy: 0.1728\n",
            "Epoch 2/200\n",
            "3/3 [==============================] - 0s 5ms/step - loss: 2.0756 - accuracy: 0.1852\n",
            "Epoch 3/200\n",
            "3/3 [==============================] - 0s 5ms/step - loss: 2.0718 - accuracy: 0.1852\n",
            "Epoch 4/200\n",
            "3/3 [==============================] - 0s 7ms/step - loss: 2.0678 - accuracy: 0.1852\n",
            "Epoch 5/200\n",
            "3/3 [==============================] - 0s 6ms/step - loss: 2.0633 - accuracy: 0.1852\n",
            "Epoch 6/200\n",
            "3/3 [==============================] - 0s 9ms/step - loss: 2.0594 - accuracy: 0.1852\n",
            "Epoch 7/200\n",
            "3/3 [==============================] - 0s 7ms/step - loss: 2.0544 - accuracy: 0.1728\n",
            "Epoch 8/200\n",
            "3/3 [==============================] - 0s 9ms/step - loss: 2.0493 - accuracy: 0.1728\n",
            "Epoch 9/200\n",
            "3/3 [==============================] - 0s 7ms/step - loss: 2.0438 - accuracy: 0.1728\n",
            "Epoch 10/200\n",
            "3/3 [==============================] - 0s 8ms/step - loss: 2.0377 - accuracy: 0.1728\n",
            "Epoch 11/200\n",
            "3/3 [==============================] - 0s 8ms/step - loss: 2.0310 - accuracy: 0.1728\n",
            "Epoch 12/200\n",
            "3/3 [==============================] - 0s 8ms/step - loss: 2.0236 - accuracy: 0.1728\n",
            "Epoch 13/200\n",
            "3/3 [==============================] - 0s 8ms/step - loss: 2.0162 - accuracy: 0.1728\n",
            "Epoch 14/200\n",
            "3/3 [==============================] - 0s 8ms/step - loss: 2.0076 - accuracy: 0.1728\n",
            "Epoch 15/200\n",
            "3/3 [==============================] - 0s 8ms/step - loss: 1.9986 - accuracy: 0.1728\n",
            "Epoch 16/200\n",
            "3/3 [==============================] - 0s 9ms/step - loss: 1.9882 - accuracy: 0.1728\n",
            "Epoch 17/200\n",
            "3/3 [==============================] - 0s 9ms/step - loss: 1.9781 - accuracy: 0.1728\n",
            "Epoch 18/200\n",
            "3/3 [==============================] - 0s 8ms/step - loss: 1.9660 - accuracy: 0.1728\n",
            "Epoch 19/200\n",
            "3/3 [==============================] - 0s 7ms/step - loss: 1.9561 - accuracy: 0.1728\n",
            "Epoch 20/200\n",
            "3/3 [==============================] - 0s 7ms/step - loss: 1.9437 - accuracy: 0.1728\n",
            "Epoch 21/200\n",
            "3/3 [==============================] - 0s 7ms/step - loss: 1.9323 - accuracy: 0.1728\n",
            "Epoch 22/200\n",
            "3/3 [==============================] - 0s 10ms/step - loss: 1.9210 - accuracy: 0.1852\n",
            "Epoch 23/200\n",
            "3/3 [==============================] - 0s 7ms/step - loss: 1.9082 - accuracy: 0.1852\n",
            "Epoch 24/200\n",
            "3/3 [==============================] - 0s 8ms/step - loss: 1.8951 - accuracy: 0.1852\n",
            "Epoch 25/200\n",
            "3/3 [==============================] - 0s 10ms/step - loss: 1.8810 - accuracy: 0.1975\n",
            "Epoch 26/200\n",
            "3/3 [==============================] - 0s 7ms/step - loss: 1.8662 - accuracy: 0.2346\n",
            "Epoch 27/200\n",
            "3/3 [==============================] - 0s 7ms/step - loss: 1.8513 - accuracy: 0.2593\n",
            "Epoch 28/200\n",
            "3/3 [==============================] - 0s 8ms/step - loss: 1.8355 - accuracy: 0.2963\n",
            "Epoch 29/200\n",
            "3/3 [==============================] - 0s 8ms/step - loss: 1.8186 - accuracy: 0.3086\n",
            "Epoch 30/200\n",
            "3/3 [==============================] - 0s 8ms/step - loss: 1.8005 - accuracy: 0.3210\n",
            "Epoch 31/200\n",
            "3/3 [==============================] - 0s 8ms/step - loss: 1.7815 - accuracy: 0.3580\n",
            "Epoch 32/200\n",
            "3/3 [==============================] - 0s 9ms/step - loss: 1.7630 - accuracy: 0.4198\n",
            "Epoch 33/200\n",
            "3/3 [==============================] - 0s 9ms/step - loss: 1.7416 - accuracy: 0.4321\n",
            "Epoch 34/200\n",
            "3/3 [==============================] - 0s 8ms/step - loss: 1.7202 - accuracy: 0.4815\n",
            "Epoch 35/200\n",
            "3/3 [==============================] - 0s 9ms/step - loss: 1.6977 - accuracy: 0.4938\n",
            "Epoch 36/200\n",
            "3/3 [==============================] - 0s 7ms/step - loss: 1.6741 - accuracy: 0.4815\n",
            "Epoch 37/200\n",
            "3/3 [==============================] - 0s 7ms/step - loss: 1.6503 - accuracy: 0.4815\n",
            "Epoch 38/200\n",
            "3/3 [==============================] - 0s 11ms/step - loss: 1.6266 - accuracy: 0.4938\n",
            "Epoch 39/200\n",
            "3/3 [==============================] - 0s 9ms/step - loss: 1.6020 - accuracy: 0.5062\n",
            "Epoch 40/200\n",
            "3/3 [==============================] - 0s 10ms/step - loss: 1.5752 - accuracy: 0.5309\n",
            "Epoch 41/200\n",
            "3/3 [==============================] - 0s 8ms/step - loss: 1.5487 - accuracy: 0.5432\n",
            "Epoch 42/200\n",
            "3/3 [==============================] - 0s 8ms/step - loss: 1.5223 - accuracy: 0.5926\n",
            "Epoch 43/200\n",
            "3/3 [==============================] - 0s 9ms/step - loss: 1.4945 - accuracy: 0.6420\n",
            "Epoch 44/200\n",
            "3/3 [==============================] - 0s 7ms/step - loss: 1.4670 - accuracy: 0.6543\n",
            "Epoch 45/200\n",
            "3/3 [==============================] - 0s 12ms/step - loss: 1.4385 - accuracy: 0.6543\n",
            "Epoch 46/200\n",
            "3/3 [==============================] - 0s 6ms/step - loss: 1.4092 - accuracy: 0.6790\n",
            "Epoch 47/200\n",
            "3/3 [==============================] - 0s 7ms/step - loss: 1.3820 - accuracy: 0.7037\n",
            "Epoch 48/200\n",
            "3/3 [==============================] - 0s 9ms/step - loss: 1.3538 - accuracy: 0.6914\n",
            "Epoch 49/200\n",
            "3/3 [==============================] - 0s 8ms/step - loss: 1.3255 - accuracy: 0.7037\n",
            "Epoch 50/200\n",
            "3/3 [==============================] - 0s 7ms/step - loss: 1.2973 - accuracy: 0.7284\n",
            "Epoch 51/200\n",
            "3/3 [==============================] - 0s 7ms/step - loss: 1.2706 - accuracy: 0.7407\n",
            "Epoch 52/200\n",
            "3/3 [==============================] - 0s 13ms/step - loss: 1.2436 - accuracy: 0.7284\n",
            "Epoch 53/200\n",
            "3/3 [==============================] - 0s 8ms/step - loss: 1.2156 - accuracy: 0.7407\n",
            "Epoch 54/200\n",
            "3/3 [==============================] - 0s 5ms/step - loss: 1.1887 - accuracy: 0.7531\n",
            "Epoch 55/200\n",
            "3/3 [==============================] - 0s 5ms/step - loss: 1.1631 - accuracy: 0.7531\n",
            "Epoch 56/200\n",
            "3/3 [==============================] - 0s 6ms/step - loss: 1.1375 - accuracy: 0.7531\n",
            "Epoch 57/200\n",
            "3/3 [==============================] - 0s 5ms/step - loss: 1.1114 - accuracy: 0.7531\n",
            "Epoch 58/200\n",
            "3/3 [==============================] - 0s 5ms/step - loss: 1.0861 - accuracy: 0.7778\n",
            "Epoch 59/200\n",
            "3/3 [==============================] - 0s 5ms/step - loss: 1.0622 - accuracy: 0.7778\n",
            "Epoch 60/200\n",
            "3/3 [==============================] - 0s 5ms/step - loss: 1.0391 - accuracy: 0.7778\n",
            "Epoch 61/200\n",
            "3/3 [==============================] - 0s 6ms/step - loss: 1.0151 - accuracy: 0.7901\n",
            "Epoch 62/200\n",
            "3/3 [==============================] - 0s 9ms/step - loss: 0.9910 - accuracy: 0.7901\n",
            "Epoch 63/200\n",
            "3/3 [==============================] - 0s 6ms/step - loss: 0.9680 - accuracy: 0.7901\n",
            "Epoch 64/200\n",
            "3/3 [==============================] - 0s 6ms/step - loss: 0.9461 - accuracy: 0.7901\n",
            "Epoch 65/200\n",
            "3/3 [==============================] - 0s 6ms/step - loss: 0.9266 - accuracy: 0.8025\n",
            "Epoch 66/200\n",
            "3/3 [==============================] - 0s 6ms/step - loss: 0.9029 - accuracy: 0.8395\n",
            "Epoch 67/200\n",
            "3/3 [==============================] - 0s 5ms/step - loss: 0.8829 - accuracy: 0.8395\n",
            "Epoch 68/200\n",
            "3/3 [==============================] - 0s 5ms/step - loss: 0.8638 - accuracy: 0.8395\n",
            "Epoch 69/200\n",
            "3/3 [==============================] - 0s 5ms/step - loss: 0.8432 - accuracy: 0.8395\n",
            "Epoch 70/200\n",
            "3/3 [==============================] - 0s 5ms/step - loss: 0.8239 - accuracy: 0.8519\n",
            "Epoch 71/200\n",
            "3/3 [==============================] - 0s 5ms/step - loss: 0.8055 - accuracy: 0.8519\n",
            "Epoch 72/200\n",
            "3/3 [==============================] - 0s 9ms/step - loss: 0.7858 - accuracy: 0.8519\n",
            "Epoch 73/200\n",
            "3/3 [==============================] - 0s 6ms/step - loss: 0.7668 - accuracy: 0.8519\n",
            "Epoch 74/200\n",
            "3/3 [==============================] - 0s 5ms/step - loss: 0.7487 - accuracy: 0.8519\n",
            "Epoch 75/200\n",
            "3/3 [==============================] - 0s 6ms/step - loss: 0.7315 - accuracy: 0.8519\n",
            "Epoch 76/200\n",
            "3/3 [==============================] - 0s 5ms/step - loss: 0.7129 - accuracy: 0.8519\n",
            "Epoch 77/200\n",
            "3/3 [==============================] - 0s 8ms/step - loss: 0.6971 - accuracy: 0.8519\n",
            "Epoch 78/200\n",
            "3/3 [==============================] - 0s 5ms/step - loss: 0.6801 - accuracy: 0.8519\n",
            "Epoch 79/200\n",
            "3/3 [==============================] - 0s 7ms/step - loss: 0.6627 - accuracy: 0.8519\n",
            "Epoch 80/200\n",
            "3/3 [==============================] - 0s 7ms/step - loss: 0.6472 - accuracy: 0.8519\n",
            "Epoch 81/200\n",
            "3/3 [==============================] - 0s 7ms/step - loss: 0.6316 - accuracy: 0.8765\n",
            "Epoch 82/200\n",
            "3/3 [==============================] - 0s 8ms/step - loss: 0.6163 - accuracy: 0.9012\n",
            "Epoch 83/200\n",
            "3/3 [==============================] - 0s 6ms/step - loss: 0.6019 - accuracy: 0.9012\n",
            "Epoch 84/200\n",
            "3/3 [==============================] - 0s 7ms/step - loss: 0.5862 - accuracy: 0.9136\n",
            "Epoch 85/200\n",
            "3/3 [==============================] - 0s 5ms/step - loss: 0.5725 - accuracy: 0.9136\n",
            "Epoch 86/200\n",
            "3/3 [==============================] - 0s 6ms/step - loss: 0.5588 - accuracy: 0.9136\n",
            "Epoch 87/200\n",
            "3/3 [==============================] - 0s 7ms/step - loss: 0.5451 - accuracy: 0.9136\n",
            "Epoch 88/200\n",
            "3/3 [==============================] - 0s 5ms/step - loss: 0.5314 - accuracy: 0.9259\n",
            "Epoch 89/200\n",
            "3/3 [==============================] - 0s 6ms/step - loss: 0.5188 - accuracy: 0.9259\n",
            "Epoch 90/200\n",
            "3/3 [==============================] - 0s 7ms/step - loss: 0.5077 - accuracy: 0.9259\n",
            "Epoch 91/200\n",
            "3/3 [==============================] - 0s 8ms/step - loss: 0.4934 - accuracy: 0.9259\n",
            "Epoch 92/200\n",
            "3/3 [==============================] - 0s 7ms/step - loss: 0.4836 - accuracy: 0.9259\n",
            "Epoch 93/200\n",
            "3/3 [==============================] - 0s 6ms/step - loss: 0.4721 - accuracy: 0.9383\n",
            "Epoch 94/200\n",
            "3/3 [==============================] - 0s 5ms/step - loss: 0.4598 - accuracy: 0.9506\n",
            "Epoch 95/200\n",
            "3/3 [==============================] - 0s 7ms/step - loss: 0.4488 - accuracy: 0.9383\n",
            "Epoch 96/200\n",
            "3/3 [==============================] - 0s 7ms/step - loss: 0.4378 - accuracy: 0.9383\n",
            "Epoch 97/200\n",
            "3/3 [==============================] - 0s 6ms/step - loss: 0.4288 - accuracy: 0.9259\n",
            "Epoch 98/200\n",
            "3/3 [==============================] - 0s 8ms/step - loss: 0.4177 - accuracy: 0.9383\n",
            "Epoch 99/200\n",
            "3/3 [==============================] - 0s 6ms/step - loss: 0.4090 - accuracy: 0.9506\n",
            "Epoch 100/200\n",
            "3/3 [==============================] - 0s 9ms/step - loss: 0.3976 - accuracy: 0.9506\n",
            "Epoch 101/200\n",
            "3/3 [==============================] - 0s 10ms/step - loss: 0.3885 - accuracy: 0.9506\n",
            "Epoch 102/200\n",
            "3/3 [==============================] - 0s 5ms/step - loss: 0.3802 - accuracy: 0.9506\n",
            "Epoch 103/200\n",
            "3/3 [==============================] - 0s 5ms/step - loss: 0.3713 - accuracy: 0.9506\n",
            "Epoch 104/200\n",
            "3/3 [==============================] - 0s 6ms/step - loss: 0.3642 - accuracy: 0.9506\n",
            "Epoch 105/200\n",
            "3/3 [==============================] - 0s 6ms/step - loss: 0.3543 - accuracy: 0.9506\n",
            "Epoch 106/200\n",
            "3/3 [==============================] - 0s 9ms/step - loss: 0.3466 - accuracy: 0.9506\n",
            "Epoch 107/200\n",
            "3/3 [==============================] - 0s 8ms/step - loss: 0.3405 - accuracy: 0.9506\n",
            "Epoch 108/200\n",
            "3/3 [==============================] - 0s 9ms/step - loss: 0.3315 - accuracy: 0.9506\n",
            "Epoch 109/200\n",
            "3/3 [==============================] - 0s 8ms/step - loss: 0.3238 - accuracy: 0.9506\n",
            "Epoch 110/200\n",
            "3/3 [==============================] - 0s 8ms/step - loss: 0.3183 - accuracy: 0.9630\n",
            "Epoch 111/200\n",
            "3/3 [==============================] - 0s 8ms/step - loss: 0.3103 - accuracy: 0.9630\n",
            "Epoch 112/200\n",
            "3/3 [==============================] - 0s 6ms/step - loss: 0.3054 - accuracy: 0.9506\n",
            "Epoch 113/200\n",
            "3/3 [==============================] - 0s 9ms/step - loss: 0.2986 - accuracy: 0.9506\n",
            "Epoch 114/200\n",
            "3/3 [==============================] - 0s 8ms/step - loss: 0.2907 - accuracy: 0.9506\n",
            "Epoch 115/200\n",
            "3/3 [==============================] - 0s 19ms/step - loss: 0.2845 - accuracy: 0.9506\n",
            "Epoch 116/200\n",
            "3/3 [==============================] - 0s 11ms/step - loss: 0.2771 - accuracy: 0.9630\n",
            "Epoch 117/200\n",
            "3/3 [==============================] - 0s 9ms/step - loss: 0.2710 - accuracy: 0.9630\n",
            "Epoch 118/200\n",
            "3/3 [==============================] - 0s 10ms/step - loss: 0.2654 - accuracy: 0.9630\n",
            "Epoch 119/200\n",
            "3/3 [==============================] - 0s 10ms/step - loss: 0.2593 - accuracy: 0.9630\n",
            "Epoch 120/200\n",
            "3/3 [==============================] - 0s 9ms/step - loss: 0.2540 - accuracy: 0.9630\n",
            "Epoch 121/200\n",
            "3/3 [==============================] - 0s 10ms/step - loss: 0.2493 - accuracy: 0.9630\n",
            "Epoch 122/200\n",
            "3/3 [==============================] - 0s 13ms/step - loss: 0.2442 - accuracy: 0.9630\n",
            "Epoch 123/200\n",
            "3/3 [==============================] - 0s 9ms/step - loss: 0.2378 - accuracy: 0.9630\n",
            "Epoch 124/200\n",
            "3/3 [==============================] - 0s 9ms/step - loss: 0.2329 - accuracy: 0.9630\n",
            "Epoch 125/200\n",
            "3/3 [==============================] - 0s 8ms/step - loss: 0.2296 - accuracy: 0.9630\n",
            "Epoch 126/200\n",
            "3/3 [==============================] - 0s 11ms/step - loss: 0.2235 - accuracy: 0.9630\n",
            "Epoch 127/200\n",
            "3/3 [==============================] - 0s 7ms/step - loss: 0.2204 - accuracy: 0.9753\n",
            "Epoch 128/200\n",
            "3/3 [==============================] - 0s 8ms/step - loss: 0.2145 - accuracy: 0.9753\n",
            "Epoch 129/200\n",
            "3/3 [==============================] - 0s 8ms/step - loss: 0.2089 - accuracy: 0.9630\n",
            "Epoch 130/200\n",
            "3/3 [==============================] - 0s 8ms/step - loss: 0.2058 - accuracy: 0.9630\n",
            "Epoch 131/200\n",
            "3/3 [==============================] - 0s 8ms/step - loss: 0.2008 - accuracy: 0.9630\n",
            "Epoch 132/200\n",
            "3/3 [==============================] - 0s 9ms/step - loss: 0.1963 - accuracy: 0.9630\n",
            "Epoch 133/200\n",
            "3/3 [==============================] - 0s 9ms/step - loss: 0.1922 - accuracy: 0.9630\n",
            "Epoch 134/200\n",
            "3/3 [==============================] - 0s 12ms/step - loss: 0.1885 - accuracy: 0.9753\n",
            "Epoch 135/200\n",
            "3/3 [==============================] - 0s 9ms/step - loss: 0.1836 - accuracy: 0.9753\n",
            "Epoch 136/200\n",
            "3/3 [==============================] - 0s 8ms/step - loss: 0.1794 - accuracy: 0.9753\n",
            "Epoch 137/200\n",
            "3/3 [==============================] - 0s 9ms/step - loss: 0.1761 - accuracy: 0.9877\n",
            "Epoch 138/200\n",
            "3/3 [==============================] - 0s 9ms/step - loss: 0.1723 - accuracy: 0.9877\n",
            "Epoch 139/200\n",
            "3/3 [==============================] - 0s 7ms/step - loss: 0.1691 - accuracy: 0.9877\n",
            "Epoch 140/200\n",
            "3/3 [==============================] - 0s 7ms/step - loss: 0.1648 - accuracy: 0.9877\n",
            "Epoch 141/200\n",
            "3/3 [==============================] - 0s 8ms/step - loss: 0.1612 - accuracy: 0.9877\n",
            "Epoch 142/200\n",
            "3/3 [==============================] - 0s 6ms/step - loss: 0.1583 - accuracy: 1.0000\n",
            "Epoch 143/200\n",
            "3/3 [==============================] - 0s 10ms/step - loss: 0.1541 - accuracy: 1.0000\n",
            "Epoch 144/200\n",
            "3/3 [==============================] - 0s 10ms/step - loss: 0.1508 - accuracy: 1.0000\n",
            "Epoch 145/200\n",
            "3/3 [==============================] - 0s 9ms/step - loss: 0.1475 - accuracy: 1.0000\n",
            "Epoch 146/200\n",
            "3/3 [==============================] - 0s 10ms/step - loss: 0.1442 - accuracy: 1.0000\n",
            "Epoch 147/200\n",
            "3/3 [==============================] - 0s 9ms/step - loss: 0.1417 - accuracy: 1.0000\n",
            "Epoch 148/200\n",
            "3/3 [==============================] - 0s 7ms/step - loss: 0.1389 - accuracy: 1.0000\n",
            "Epoch 149/200\n",
            "3/3 [==============================] - 0s 8ms/step - loss: 0.1354 - accuracy: 1.0000\n",
            "Epoch 150/200\n",
            "3/3 [==============================] - 0s 8ms/step - loss: 0.1327 - accuracy: 1.0000\n",
            "Epoch 151/200\n",
            "3/3 [==============================] - 0s 8ms/step - loss: 0.1292 - accuracy: 1.0000\n",
            "Epoch 152/200\n",
            "3/3 [==============================] - 0s 7ms/step - loss: 0.1274 - accuracy: 1.0000\n",
            "Epoch 153/200\n",
            "3/3 [==============================] - 0s 8ms/step - loss: 0.1239 - accuracy: 1.0000\n",
            "Epoch 154/200\n",
            "3/3 [==============================] - 0s 9ms/step - loss: 0.1219 - accuracy: 1.0000\n",
            "Epoch 155/200\n",
            "3/3 [==============================] - 0s 8ms/step - loss: 0.1193 - accuracy: 1.0000\n",
            "Epoch 156/200\n",
            "3/3 [==============================] - 0s 6ms/step - loss: 0.1167 - accuracy: 1.0000\n",
            "Epoch 157/200\n",
            "3/3 [==============================] - 0s 7ms/step - loss: 0.1136 - accuracy: 1.0000\n",
            "Epoch 158/200\n",
            "3/3 [==============================] - 0s 7ms/step - loss: 0.1131 - accuracy: 1.0000\n",
            "Epoch 159/200\n",
            "3/3 [==============================] - 0s 7ms/step - loss: 0.1096 - accuracy: 1.0000\n",
            "Epoch 160/200\n",
            "3/3 [==============================] - 0s 8ms/step - loss: 0.1073 - accuracy: 1.0000\n",
            "Epoch 161/200\n",
            "3/3 [==============================] - 0s 6ms/step - loss: 0.1051 - accuracy: 1.0000\n",
            "Epoch 162/200\n",
            "3/3 [==============================] - 0s 7ms/step - loss: 0.1034 - accuracy: 1.0000\n",
            "Epoch 163/200\n",
            "3/3 [==============================] - 0s 5ms/step - loss: 0.1011 - accuracy: 1.0000\n",
            "Epoch 164/200\n",
            "3/3 [==============================] - 0s 6ms/step - loss: 0.0994 - accuracy: 1.0000\n",
            "Epoch 165/200\n",
            "3/3 [==============================] - 0s 9ms/step - loss: 0.0978 - accuracy: 1.0000\n",
            "Epoch 166/200\n",
            "3/3 [==============================] - 0s 6ms/step - loss: 0.0951 - accuracy: 1.0000\n",
            "Epoch 167/200\n",
            "3/3 [==============================] - 0s 5ms/step - loss: 0.0943 - accuracy: 1.0000\n",
            "Epoch 168/200\n",
            "3/3 [==============================] - 0s 7ms/step - loss: 0.0912 - accuracy: 1.0000\n",
            "Epoch 169/200\n",
            "3/3 [==============================] - 0s 5ms/step - loss: 0.0897 - accuracy: 1.0000\n",
            "Epoch 170/200\n",
            "3/3 [==============================] - 0s 6ms/step - loss: 0.0904 - accuracy: 1.0000\n",
            "Epoch 171/200\n",
            "3/3 [==============================] - 0s 6ms/step - loss: 0.0870 - accuracy: 1.0000\n",
            "Epoch 172/200\n",
            "3/3 [==============================] - 0s 6ms/step - loss: 0.0846 - accuracy: 1.0000\n",
            "Epoch 173/200\n",
            "3/3 [==============================] - 0s 11ms/step - loss: 0.0842 - accuracy: 1.0000\n",
            "Epoch 174/200\n",
            "3/3 [==============================] - 0s 7ms/step - loss: 0.0825 - accuracy: 1.0000\n",
            "Epoch 175/200\n",
            "3/3 [==============================] - 0s 7ms/step - loss: 0.0812 - accuracy: 1.0000\n",
            "Epoch 176/200\n",
            "3/3 [==============================] - 0s 10ms/step - loss: 0.0796 - accuracy: 1.0000\n",
            "Epoch 177/200\n",
            "3/3 [==============================] - 0s 9ms/step - loss: 0.0778 - accuracy: 1.0000\n",
            "Epoch 178/200\n",
            "3/3 [==============================] - 0s 8ms/step - loss: 0.0762 - accuracy: 1.0000\n",
            "Epoch 179/200\n",
            "3/3 [==============================] - 0s 8ms/step - loss: 0.0747 - accuracy: 1.0000\n",
            "Epoch 180/200\n",
            "3/3 [==============================] - 0s 7ms/step - loss: 0.0739 - accuracy: 1.0000\n",
            "Epoch 181/200\n",
            "3/3 [==============================] - 0s 7ms/step - loss: 0.0722 - accuracy: 1.0000\n",
            "Epoch 182/200\n",
            "3/3 [==============================] - 0s 8ms/step - loss: 0.0709 - accuracy: 1.0000\n",
            "Epoch 183/200\n",
            "3/3 [==============================] - 0s 8ms/step - loss: 0.0700 - accuracy: 1.0000\n",
            "Epoch 184/200\n",
            "3/3 [==============================] - 0s 7ms/step - loss: 0.0689 - accuracy: 1.0000\n",
            "Epoch 185/200\n",
            "3/3 [==============================] - 0s 9ms/step - loss: 0.0679 - accuracy: 1.0000\n",
            "Epoch 186/200\n",
            "3/3 [==============================] - 0s 8ms/step - loss: 0.0670 - accuracy: 1.0000\n",
            "Epoch 187/200\n",
            "3/3 [==============================] - 0s 7ms/step - loss: 0.0655 - accuracy: 1.0000\n",
            "Epoch 188/200\n",
            "3/3 [==============================] - 0s 8ms/step - loss: 0.0648 - accuracy: 1.0000\n",
            "Epoch 189/200\n",
            "3/3 [==============================] - 0s 9ms/step - loss: 0.0632 - accuracy: 1.0000\n",
            "Epoch 190/200\n",
            "3/3 [==============================] - 0s 9ms/step - loss: 0.0622 - accuracy: 1.0000\n",
            "Epoch 191/200\n",
            "3/3 [==============================] - 0s 8ms/step - loss: 0.0613 - accuracy: 1.0000\n",
            "Epoch 192/200\n",
            "3/3 [==============================] - 0s 11ms/step - loss: 0.0606 - accuracy: 1.0000\n",
            "Epoch 193/200\n",
            "3/3 [==============================] - 0s 8ms/step - loss: 0.0594 - accuracy: 1.0000\n",
            "Epoch 194/200\n",
            "3/3 [==============================] - 0s 8ms/step - loss: 0.0587 - accuracy: 1.0000\n",
            "Epoch 195/200\n",
            "3/3 [==============================] - 0s 8ms/step - loss: 0.0583 - accuracy: 1.0000\n",
            "Epoch 196/200\n",
            "3/3 [==============================] - 0s 8ms/step - loss: 0.0571 - accuracy: 1.0000\n",
            "Epoch 197/200\n",
            "3/3 [==============================] - 0s 7ms/step - loss: 0.0562 - accuracy: 1.0000\n",
            "Epoch 198/200\n",
            "3/3 [==============================] - 0s 9ms/step - loss: 0.0554 - accuracy: 1.0000\n",
            "Epoch 199/200\n",
            "3/3 [==============================] - 0s 7ms/step - loss: 0.0547 - accuracy: 1.0000\n",
            "Epoch 200/200\n",
            "3/3 [==============================] - 0s 9ms/step - loss: 0.0538 - accuracy: 1.0000\n"
          ]
        }
      ]
    },
    {
      "cell_type": "markdown",
      "source": [
        "### Plot Model Accuracy"
      ],
      "metadata": {
        "id": "qrPZLZquTsxH"
      }
    },
    {
      "cell_type": "code",
      "source": [
        "plt.plot(train.history['accuracy'],label='training set accuracy')\n",
        "plt.plot(train.history['loss'],label='training set loss')\n",
        "plt.legend()\n"
      ],
      "metadata": {
        "colab": {
          "base_uri": "https://localhost:8080/",
          "height": 448
        },
        "id": "Dx8-nkIQTxQN",
        "outputId": "80a6487a-8af0-48dc-88b9-e59961146a6b"
      },
      "execution_count": 29,
      "outputs": [
        {
          "output_type": "execute_result",
          "data": {
            "text/plain": [
              "<matplotlib.legend.Legend at 0x7b1f94470400>"
            ]
          },
          "metadata": {},
          "execution_count": 29
        },
        {
          "output_type": "display_data",
          "data": {
            "text/plain": [
              "<Figure size 640x480 with 1 Axes>"
            ],
            "image/png": "[encoded data removed]"
          },
          "metadata": {}
        }
      ]
    },
    {
      "cell_type": "markdown",
      "source": [
        "# **Final Chatbot**"
      ],
      "metadata": {
        "id": "M722GiFsT1sj"
      }
    },
    {
      "cell_type": "code",
      "source": [
        "import random\n",
        "\n",
        "\n",
        "while True:\n",
        "  texts_p = []\n",
        "  prediction_input = input('You : ')\n",
        "\n",
        "  #removing punctuation and converting to lowercase\n",
        "  prediction_input = [letters.lower() for letters in prediction_input if letters not in string.punctuation]\n",
        "  prediction_input = ''.join(prediction_input)\n",
        "  texts_p.append(prediction_input)\n",
        "\n",
        "  #tokenizing and padding\n",
        "  prediction_input = tokenizer.texts_to_sequences(texts_p)\n",
        "  prediction_input = np.array(prediction_input).reshape(-1)\n",
        "  prediction_input = pad_sequences([prediction_input],input_shape)\n",
        "\n",
        "  #getting output from model\n",
        "  output = model.predict(prediction_input)\n",
        "  output = output.argmax()\n",
        "\n",
        "  #finding the right tag and predicting\n",
        "  response_tag = le.inverse_transform([output])[0]\n",
        "  print(\"Going Merry : \",random.choice(responses[response_tag]))\n",
        "  if response_tag == \"goodbye\":\n",
        "    break"
      ],
      "metadata": {
        "colab": {
          "base_uri": "https://localhost:8080/"
        },
        "id": "bjfMtVkPT3TJ",
        "outputId": "2e65f387-c052-4e03-fcbb-9c0b0e97b5d5"
      },
      "execution_count": 30,
      "outputs": [
        {
          "output_type": "stream",
          "name": "stdout",
          "text": [
            "You : Hello\n",
            "1/1 [==============================] - 0s 347ms/step\n",
            "Going Merry :  Ha , Glad you showed up. How are you ?\n",
            "You : Fine, thank you\n",
            "1/1 [==============================] - 0s 20ms/step\n",
            "Going Merry :  nice conversation. bye\n"
          ]
        }
      ]
    }
  ]
}